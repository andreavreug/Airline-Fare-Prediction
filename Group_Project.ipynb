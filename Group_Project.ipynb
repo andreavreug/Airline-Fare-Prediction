{
 "cells": [
  {
   "cell_type": "markdown",
   "id": "16823119",
   "metadata": {},
   "source": [
    "# INSY662 - Group Project - Predicting Airline Fares"
   ]
  },
  {
   "cell_type": "markdown",
   "id": "a638bae2",
   "metadata": {},
   "source": [
    "### Problem Definition and Motivation\n",
    "\n"
   ]
  },
  {
   "cell_type": "markdown",
   "id": "3fbad40e",
   "metadata": {},
   "source": [
    "### Dataset Description \n"
   ]
  },
  {
   "cell_type": "markdown",
   "id": "c7bb37a7",
   "metadata": {},
   "source": [
    "### Initial Processing Steps"
   ]
  },
  {
   "cell_type": "code",
   "execution_count": 3,
   "id": "5574eefa",
   "metadata": {},
   "outputs": [],
   "source": [
    "# Import necessary libraries\n",
    "import pandas as pd\n",
    "import numpy as np\n",
    "import matplotlib.pyplot as plt\n",
    "import seaborn as sns \n",
    "\n"
   ]
  },
  {
   "cell_type": "markdown",
   "id": "12cf38f6",
   "metadata": {},
   "source": [
    "### Exploratory Data Analysis (EDA) results"
   ]
  },
  {
   "cell_type": "markdown",
   "id": "915b59e1",
   "metadata": {},
   "source": [
    "### Feature engineering steps\n",
    "\n",
    "##### Scaling\n",
    "##### Encoding\n",
    "##### Binning\n",
    "##### Transformations\n",
    "##### Handling Outliers\n",
    "##### Creation of Derived Variables"
   ]
  },
  {
   "cell_type": "code",
   "execution_count": null,
   "id": "140eb1e3",
   "metadata": {},
   "outputs": [],
   "source": [
    "#"
   ]
  }
 ],
 "metadata": {
  "kernelspec": {
   "display_name": "Python (datasci)",
   "language": "python",
   "name": "datasci"
  },
  "language_info": {
   "codemirror_mode": {
    "name": "ipython",
    "version": 3
   },
   "file_extension": ".py",
   "mimetype": "text/x-python",
   "name": "python",
   "nbconvert_exporter": "python",
   "pygments_lexer": "ipython3",
   "version": "3.13.5"
  }
 },
 "nbformat": 4,
 "nbformat_minor": 5
}
