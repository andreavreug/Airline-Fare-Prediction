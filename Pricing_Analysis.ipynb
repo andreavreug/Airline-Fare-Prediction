{
 "cells": [
  {
   "cell_type": "markdown",
   "id": "16823119",
   "metadata": {},
   "source": [
    "# INSY662 - Group Project - Predicting Airline Fares"
   ]
  },
  {
   "cell_type": "markdown",
   "id": "a638bae2",
   "metadata": {},
   "source": [
    "### Problem Definition and Motivation\n",
    "\n"
   ]
  },
  {
   "cell_type": "markdown",
   "id": "3fbad40e",
   "metadata": {},
   "source": [
    "### Dataset Description \n"
   ]
  },
  {
   "cell_type": "markdown",
   "id": "c7bb37a7",
   "metadata": {},
   "source": [
    "### Initial Processing Steps"
   ]
  },
  {
   "cell_type": "code",
   "execution_count": 16,
   "id": "5574eefa",
   "metadata": {},
   "outputs": [],
   "source": [
    "# Import necessary libraries\n",
    "import pandas as pd\n",
    "import numpy as np\n",
    "import matplotlib.pyplot as plt\n",
    "import seaborn as sns \n",
    "import re\n",
    "\n",
    "# Load dataset in folder Data \n",
    "df = pd.read_csv('data/processed_data.csv')\n",
    "df.head()\n",
    "\n",
    "# keep only 20% of rows \n",
    "data = df.sample(frac=0.2, random_state=42)\n",
    "\n",
    "\n"
   ]
  },
  {
   "cell_type": "code",
   "execution_count": 17,
   "id": "577934e7",
   "metadata": {},
   "outputs": [
    {
     "name": "stdout",
     "output_type": "stream",
     "text": [
      "<class 'pandas.core.frame.DataFrame'>\n",
      "Index: 821388 entries, 1042959 to 3223388\n",
      "Data columns (total 27 columns):\n",
      " #   Column                             Non-Null Count   Dtype  \n",
      "---  ------                             --------------   -----  \n",
      " 0   legId                              821388 non-null  object \n",
      " 1   searchDate                         821388 non-null  object \n",
      " 2   flightDate                         821388 non-null  object \n",
      " 3   startingAirport                    821388 non-null  object \n",
      " 4   destinationAirport                 821388 non-null  object \n",
      " 5   fareBasisCode                      821388 non-null  object \n",
      " 6   travelDuration                     821388 non-null  object \n",
      " 7   elapsedDays                        821388 non-null  int64  \n",
      " 8   isBasicEconomy                     821388 non-null  bool   \n",
      " 9   isRefundable                       821388 non-null  bool   \n",
      " 10  isNonStop                          821388 non-null  bool   \n",
      " 11  baseFare                           821388 non-null  float64\n",
      " 12  totalFare                          821388 non-null  float64\n",
      " 13  seatsRemaining                     821388 non-null  int64  \n",
      " 14  totalTravelDistance                760503 non-null  float64\n",
      " 15  segmentsDepartureTimeEpochSeconds  821388 non-null  object \n",
      " 16  segmentsDepartureTimeRaw           821388 non-null  object \n",
      " 17  segmentsArrivalTimeEpochSeconds    821388 non-null  object \n",
      " 18  segmentsArrivalTimeRaw             821388 non-null  object \n",
      " 19  segmentsArrivalAirportCode         821388 non-null  object \n",
      " 20  segmentsDepartureAirportCode       821388 non-null  object \n",
      " 21  segmentsAirlineName                821388 non-null  object \n",
      " 22  segmentsAirlineCode                821388 non-null  object \n",
      " 23  segmentsEquipmentDescription       805865 non-null  object \n",
      " 24  segmentsDurationInSeconds          821388 non-null  object \n",
      " 25  segmentsDistance                   812889 non-null  object \n",
      " 26  segmentsCabinCode                  821388 non-null  object \n",
      "dtypes: bool(3), float64(3), int64(2), object(19)\n",
      "memory usage: 159.0+ MB\n"
     ]
    }
   ],
   "source": [
    "# 1) Check data types \n",
    "data.info()"
   ]
  },
  {
   "cell_type": "code",
   "execution_count": 18,
   "id": "fd417381",
   "metadata": {},
   "outputs": [
    {
     "data": {
      "text/plain": [
       "legId                                    0\n",
       "searchDate                               0\n",
       "flightDate                               0\n",
       "startingAirport                          0\n",
       "destinationAirport                       0\n",
       "fareBasisCode                            0\n",
       "travelDuration                           0\n",
       "elapsedDays                              0\n",
       "isBasicEconomy                           0\n",
       "isRefundable                             0\n",
       "isNonStop                                0\n",
       "baseFare                                 0\n",
       "totalFare                                0\n",
       "seatsRemaining                           0\n",
       "totalTravelDistance                  60885\n",
       "segmentsDepartureTimeEpochSeconds        0\n",
       "segmentsDepartureTimeRaw                 0\n",
       "segmentsArrivalTimeEpochSeconds          0\n",
       "segmentsArrivalTimeRaw                   0\n",
       "segmentsArrivalAirportCode               0\n",
       "segmentsDepartureAirportCode             0\n",
       "segmentsAirlineName                      0\n",
       "segmentsAirlineCode                      0\n",
       "segmentsEquipmentDescription         15523\n",
       "segmentsDurationInSeconds                0\n",
       "segmentsDistance                      8499\n",
       "segmentsCabinCode                        0\n",
       "dtype: int64"
      ]
     },
     "execution_count": 18,
     "metadata": {},
     "output_type": "execute_result"
    }
   ],
   "source": [
    "# Chekck missing values\n",
    "data.isnull().sum()"
   ]
  },
  {
   "cell_type": "code",
   "execution_count": 19,
   "id": "cb386e51",
   "metadata": {},
   "outputs": [
    {
     "data": {
      "text/plain": [
       "totalTravelDistance             7.412453\n",
       "segmentsEquipmentDescription    1.889850\n",
       "segmentsDistance                1.034712\n",
       "dtype: float64"
      ]
     },
     "execution_count": 19,
     "metadata": {},
     "output_type": "execute_result"
    }
   ],
   "source": [
    "# Missing value Ration\n",
    "missing_ratio = data.isnull().sum() / len(data) * 100\n",
    "missing_ratio = missing_ratio[missing_ratio > 0].sort_values(ascending=False)\n",
    "missing_ratio"
   ]
  },
  {
   "cell_type": "code",
   "execution_count": 20,
   "id": "59ea4bb4",
   "metadata": {},
   "outputs": [
    {
     "name": "stdout",
     "output_type": "stream",
     "text": [
      "There are 3885 out of 821388 rows, representing 0.47%\n",
      "There are 0 out of 817503 rows, representing 0.00%\n"
     ]
    }
   ],
   "source": [
    "# ---------- Find dupplicates ----------------\n",
    "dupplicates = data[data.duplicated()]\n",
    "ratio = len(dupplicates) / len(data) * 100\n",
    "print(f\"There are {len(dupplicates)} out of {len(data)} rows, representing {ratio:.2f}%\")\n",
    "\n",
    "# Ratio is low, drop\n",
    "data = data.drop_duplicates()\n",
    "dupplicates = data[data.duplicated()]\n",
    "ratio = len(dupplicates) / len(data) * 100\n",
    "print(f\"There are {len(dupplicates)} out of {len(data)} rows, representing {ratio:.2f}%\")\n"
   ]
  },
  {
   "cell_type": "markdown",
   "id": "bccbeb5b",
   "metadata": {},
   "source": [
    "#### Data Cleaning"
   ]
  },
  {
   "cell_type": "code",
   "execution_count": 22,
   "id": "4dcfd9a5",
   "metadata": {},
   "outputs": [],
   "source": [
    "# ------Drop unecessary segment columns---------\n",
    "# Reasons: redundent information or not relevant to objective of analysis\n",
    "unecessary_col = ['segmentsDepartureTimeEpochSeconds', 'segmentsArrivalTimeEpochSeconds', 'segmentsAirlineCode', 'segmentsEquipmentDescription']\n",
    "data = data.drop(columns = unecessary_col)\n"
   ]
  },
  {
   "cell_type": "code",
   "execution_count": 23,
   "id": "47a3c99e",
   "metadata": {},
   "outputs": [],
   "source": [
    "# ------------- Clean/Split Segment Columns ---------------\n",
    "\n",
    "# List segment columns\n",
    "segments = [col for col in data.columns if \"segment\" in col.lower()]\n",
    "segments\n",
    "\n",
    "# Split columns per segment and drop original column\n",
    "for col in segments:\n",
    "    split_cols = data[col].str.split(\"||\", expand=True, regex=False)\n",
    "    split_cols = split_cols.dropna(axis = 1, how = \"all\")\n",
    "    split_cols.columns = [f\"{col}_{i+1}\" for i in range(split_cols.shape[1])]\n",
    "    data = pd.concat([data, split_cols], axis = 1)\n",
    "    data = data.drop(columns = [col])"
   ]
  },
  {
   "cell_type": "code",
   "execution_count": 25,
   "id": "bafef407",
   "metadata": {},
   "outputs": [
    {
     "name": "stdout",
     "output_type": "stream",
     "text": [
      "<class 'pandas.core.frame.DataFrame'>\n",
      "Index: 817503 entries, 1042959 to 3223388\n",
      "Data columns (total 55 columns):\n",
      " #   Column                          Non-Null Count   Dtype  \n",
      "---  ------                          --------------   -----  \n",
      " 0   legId                           817503 non-null  object \n",
      " 1   searchDate                      817503 non-null  object \n",
      " 2   flightDate                      817503 non-null  object \n",
      " 3   startingAirport                 817503 non-null  object \n",
      " 4   destinationAirport              817503 non-null  object \n",
      " 5   fareBasisCode                   817503 non-null  object \n",
      " 6   travelDuration                  817503 non-null  object \n",
      " 7   elapsedDays                     817503 non-null  int64  \n",
      " 8   isBasicEconomy                  817503 non-null  bool   \n",
      " 9   isRefundable                    817503 non-null  bool   \n",
      " 10  isNonStop                       817503 non-null  bool   \n",
      " 11  baseFare                        817503 non-null  float64\n",
      " 12  totalFare                       817503 non-null  float64\n",
      " 13  seatsRemaining                  817503 non-null  int64  \n",
      " 14  totalTravelDistance             756930 non-null  float64\n",
      " 15  segmentsDepartureTimeRaw_1      817503 non-null  object \n",
      " 16  segmentsDepartureTimeRaw_2      597881 non-null  object \n",
      " 17  segmentsDepartureTimeRaw_3      77205 non-null   object \n",
      " 18  segmentsDepartureTimeRaw_4      1987 non-null    object \n",
      " 19  segmentsDepartureTimeRaw_5      4 non-null       object \n",
      " 20  segmentsArrivalTimeRaw_1        817503 non-null  object \n",
      " 21  segmentsArrivalTimeRaw_2        597881 non-null  object \n",
      " 22  segmentsArrivalTimeRaw_3        77205 non-null   object \n",
      " 23  segmentsArrivalTimeRaw_4        1987 non-null    object \n",
      " 24  segmentsArrivalTimeRaw_5        4 non-null       object \n",
      " 25  segmentsArrivalAirportCode_1    817503 non-null  object \n",
      " 26  segmentsArrivalAirportCode_2    597881 non-null  object \n",
      " 27  segmentsArrivalAirportCode_3    77205 non-null   object \n",
      " 28  segmentsArrivalAirportCode_4    1987 non-null    object \n",
      " 29  segmentsArrivalAirportCode_5    4 non-null       object \n",
      " 30  segmentsDepartureAirportCode_1  817503 non-null  object \n",
      " 31  segmentsDepartureAirportCode_2  597881 non-null  object \n",
      " 32  segmentsDepartureAirportCode_3  77205 non-null   object \n",
      " 33  segmentsDepartureAirportCode_4  1987 non-null    object \n",
      " 34  segmentsDepartureAirportCode_5  4 non-null       object \n",
      " 35  segmentsAirlineName_1           817503 non-null  object \n",
      " 36  segmentsAirlineName_2           597881 non-null  object \n",
      " 37  segmentsAirlineName_3           77205 non-null   object \n",
      " 38  segmentsAirlineName_4           1987 non-null    object \n",
      " 39  segmentsAirlineName_5           4 non-null       object \n",
      " 40  segmentsDurationInSeconds_1     817503 non-null  object \n",
      " 41  segmentsDurationInSeconds_2     597881 non-null  object \n",
      " 42  segmentsDurationInSeconds_3     77205 non-null   object \n",
      " 43  segmentsDurationInSeconds_4     1987 non-null    object \n",
      " 44  segmentsDurationInSeconds_5     4 non-null       object \n",
      " 45  segmentsDistance_1              809047 non-null  object \n",
      " 46  segmentsDistance_2              597881 non-null  object \n",
      " 47  segmentsDistance_3              77205 non-null   object \n",
      " 48  segmentsDistance_4              1987 non-null    object \n",
      " 49  segmentsDistance_5              4 non-null       object \n",
      " 50  segmentsCabinCode_1             817503 non-null  object \n",
      " 51  segmentsCabinCode_2             597881 non-null  object \n",
      " 52  segmentsCabinCode_3             77205 non-null   object \n",
      " 53  segmentsCabinCode_4             1987 non-null    object \n",
      " 54  segmentsCabinCode_5             4 non-null       object \n",
      "dtypes: bool(3), float64(3), int64(2), object(47)\n",
      "memory usage: 332.9+ MB\n"
     ]
    }
   ],
   "source": [
    "data.info()"
   ]
  },
  {
   "cell_type": "code",
   "execution_count": 30,
   "id": "235a5813",
   "metadata": {},
   "outputs": [],
   "source": [
    "# ------------ Correct Data Types of Segments ----------------\n",
    "\n",
    "# List segment columns\n",
    "segmentsTime_cols = [col for col in data.columns if \"timeraw\" in col.lower()]\n",
    "for col in segmentsTime_cols:\n",
    "    data[col] = pd.to_datetime(data[col], errors='coerce', utc=True)\n",
    "for c in segmentsTime_cols:\n",
    "    data[c] = data[c].dt.tz_localize(None)\n",
    "\n",
    "segmentsNumerical_cols = [col for col in data.columns if \"seconds\" in col.lower() or \"distance\" in col.lower()]\n",
    "for col in segmentsNumerical_cols:\n",
    "    data[col] = pd.to_numeric(data[col], errors='coerce').astype('Int64')\n"
   ]
  },
  {
   "cell_type": "code",
   "execution_count": 34,
   "id": "40d2fe2b",
   "metadata": {},
   "outputs": [],
   "source": [
    "# ---------Clean Other DataTypes----------------\n",
    "\n",
    "# Transfrom data columns into correct data types\n",
    "data['searchDate'] = pd.to_datetime(data['searchDate'])\n",
    "data['flightDate'] = pd.to_datetime(data['flightDate'])\n",
    "\n",
    "# Create new column for number of days between search date and flight date\n",
    "data['date_diff'] = (data['flightDate'] - data['searchDate']).dt.days\n",
    "\n",
    "\n",
    "# travelDuration to numeric\n",
    "data['travelDuration'] = pd.to_numeric(data['travelDuration'], errors='coerce').astype('Int64')\n",
    "\n"
   ]
  },
  {
   "cell_type": "code",
   "execution_count": 35,
   "id": "03d291b5",
   "metadata": {},
   "outputs": [],
   "source": [
    "#------------- Clean Travel Duration column --------------\n",
    "def parse_travel_duration(s):\n",
    "    if pd.isnull(s):\n",
    "        return None\n",
    "    match = re.match(r'PT(?:(\\d+)H)?(?:(\\d+)M)?', s)\n",
    "    if not match:\n",
    "        return None\n",
    "    hours = int(match.group(1)) if match.group(1) else 0\n",
    "    minutes = int(match.group(2)) if match.group(2) else 0\n",
    "    return hours + minutes / 60\n",
    "\n",
    "data['travelDuration_hours'] = data['travelDuration'].apply(parse_travel_duration)\n",
    "\n"
   ]
  },
  {
   "cell_type": "code",
   "execution_count": 36,
   "id": "f41a5c07",
   "metadata": {},
   "outputs": [
    {
     "name": "stdout",
     "output_type": "stream",
     "text": [
      "<class 'pandas.core.frame.DataFrame'>\n",
      "Index: 817503 entries, 1042959 to 3223388\n",
      "Data columns (total 57 columns):\n",
      " #   Column                          Non-Null Count   Dtype         \n",
      "---  ------                          --------------   -----         \n",
      " 0   legId                           817503 non-null  object        \n",
      " 1   searchDate                      817503 non-null  datetime64[ns]\n",
      " 2   flightDate                      817503 non-null  datetime64[ns]\n",
      " 3   startingAirport                 817503 non-null  object        \n",
      " 4   destinationAirport              817503 non-null  object        \n",
      " 5   fareBasisCode                   817503 non-null  object        \n",
      " 6   travelDuration                  0 non-null       Int64         \n",
      " 7   elapsedDays                     817503 non-null  int64         \n",
      " 8   isBasicEconomy                  817503 non-null  bool          \n",
      " 9   isRefundable                    817503 non-null  bool          \n",
      " 10  isNonStop                       817503 non-null  bool          \n",
      " 11  baseFare                        817503 non-null  float64       \n",
      " 12  totalFare                       817503 non-null  float64       \n",
      " 13  seatsRemaining                  817503 non-null  int64         \n",
      " 14  totalTravelDistance             756930 non-null  Int64         \n",
      " 15  segmentsDepartureTimeRaw_1      817503 non-null  datetime64[ns]\n",
      " 16  segmentsDepartureTimeRaw_2      597881 non-null  datetime64[ns]\n",
      " 17  segmentsDepartureTimeRaw_3      77205 non-null   datetime64[ns]\n",
      " 18  segmentsDepartureTimeRaw_4      1987 non-null    datetime64[ns]\n",
      " 19  segmentsDepartureTimeRaw_5      4 non-null       datetime64[ns]\n",
      " 20  segmentsArrivalTimeRaw_1        817503 non-null  datetime64[ns]\n",
      " 21  segmentsArrivalTimeRaw_2        597881 non-null  datetime64[ns]\n",
      " 22  segmentsArrivalTimeRaw_3        77205 non-null   datetime64[ns]\n",
      " 23  segmentsArrivalTimeRaw_4        1987 non-null    datetime64[ns]\n",
      " 24  segmentsArrivalTimeRaw_5        4 non-null       datetime64[ns]\n",
      " 25  segmentsArrivalAirportCode_1    817503 non-null  object        \n",
      " 26  segmentsArrivalAirportCode_2    597881 non-null  object        \n",
      " 27  segmentsArrivalAirportCode_3    77205 non-null   object        \n",
      " 28  segmentsArrivalAirportCode_4    1987 non-null    object        \n",
      " 29  segmentsArrivalAirportCode_5    4 non-null       object        \n",
      " 30  segmentsDepartureAirportCode_1  817503 non-null  object        \n",
      " 31  segmentsDepartureAirportCode_2  597881 non-null  object        \n",
      " 32  segmentsDepartureAirportCode_3  77205 non-null   object        \n",
      " 33  segmentsDepartureAirportCode_4  1987 non-null    object        \n",
      " 34  segmentsDepartureAirportCode_5  4 non-null       object        \n",
      " 35  segmentsAirlineName_1           817503 non-null  object        \n",
      " 36  segmentsAirlineName_2           597881 non-null  object        \n",
      " 37  segmentsAirlineName_3           77205 non-null   object        \n",
      " 38  segmentsAirlineName_4           1987 non-null    object        \n",
      " 39  segmentsAirlineName_5           4 non-null       object        \n",
      " 40  segmentsDurationInSeconds_1     817503 non-null  Int64         \n",
      " 41  segmentsDurationInSeconds_2     597881 non-null  Int64         \n",
      " 42  segmentsDurationInSeconds_3     77205 non-null   Int64         \n",
      " 43  segmentsDurationInSeconds_4     1987 non-null    Int64         \n",
      " 44  segmentsDurationInSeconds_5     4 non-null       Int64         \n",
      " 45  segmentsDistance_1              756930 non-null  Int64         \n",
      " 46  segmentsDistance_2              545764 non-null  Int64         \n",
      " 47  segmentsDistance_3              75180 non-null   Int64         \n",
      " 48  segmentsDistance_4              1987 non-null    Int64         \n",
      " 49  segmentsDistance_5              4 non-null       Int64         \n",
      " 50  segmentsCabinCode_1             817503 non-null  object        \n",
      " 51  segmentsCabinCode_2             597881 non-null  object        \n",
      " 52  segmentsCabinCode_3             77205 non-null   object        \n",
      " 53  segmentsCabinCode_4             1987 non-null    object        \n",
      " 54  segmentsCabinCode_5             4 non-null       object        \n",
      " 55  date_diff                       817503 non-null  int64         \n",
      " 56  travelDuration_hours            0 non-null       object        \n",
      "dtypes: Int64(12), bool(3), datetime64[ns](12), float64(2), int64(3), object(25)\n",
      "memory usage: 354.7+ MB\n"
     ]
    }
   ],
   "source": [
    "data.info()"
   ]
  },
  {
   "cell_type": "markdown",
   "id": "12cf38f6",
   "metadata": {},
   "source": [
    "### Exploratory Data Analysis (EDA) results"
   ]
  },
  {
   "cell_type": "markdown",
   "id": "915b59e1",
   "metadata": {},
   "source": [
    "### Feature engineering steps\n",
    "\n",
    "##### Scaling\n",
    "##### Encoding\n",
    "##### Binning\n",
    "##### Transformations\n",
    "##### Handling Outliers\n",
    "##### Creation of Derived Variables"
   ]
  },
  {
   "cell_type": "code",
   "execution_count": 1,
   "id": "140eb1e3",
   "metadata": {},
   "outputs": [],
   "source": [
    "#"
   ]
  }
 ],
 "metadata": {
  "kernelspec": {
   "display_name": "datasci",
   "language": "python",
   "name": "python3"
  },
  "language_info": {
   "codemirror_mode": {
    "name": "ipython",
    "version": 3
   },
   "file_extension": ".py",
   "mimetype": "text/x-python",
   "name": "python",
   "nbconvert_exporter": "python",
   "pygments_lexer": "ipython3",
   "version": "3.13.5"
  }
 },
 "nbformat": 4,
 "nbformat_minor": 5
}
